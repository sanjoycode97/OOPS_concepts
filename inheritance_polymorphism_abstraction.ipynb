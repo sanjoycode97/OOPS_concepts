{
 "cells": [
  {
   "cell_type": "code",
   "execution_count": 1,
   "metadata": {},
   "outputs": [
    {
     "name": "stdout",
     "output_type": "stream",
     "text": [
      "this is from Phone class\n",
      "please buy iphone 16 max pro\n",
      "please give the honest review\n"
     ]
    }
   ],
   "source": [
    "#Multiple inheritance\n",
    "class Phone:\n",
    "    def __init__(self,price,brand,camera):\n",
    "        print(\"this is from Phone class\")\n",
    "        self.price=price\n",
    "        self.brand=brand\n",
    "        self.camera=camera\n",
    "\n",
    "    def buy(self):\n",
    "        print(\"please buy iphone 16 max pro\")\n",
    "\n",
    "class Product:\n",
    "    def review(self):\n",
    "        print(\"please give the honest review\")\n",
    "\n",
    "\n",
    "class SmartPhone(Phone,Product): #MRO Method resolution order\n",
    "    pass\n",
    "\n",
    "\n",
    "s=SmartPhone(90000,\"Iphone 14\",28)\n",
    "s.buy()\n",
    "s.review()\n"
   ]
  },
  {
   "cell_type": "code",
   "execution_count": 2,
   "metadata": {},
   "outputs": [
    {
     "name": "stdout",
     "output_type": "stream",
     "text": [
      "this is from Phone class\n",
      "please buy iphone 16 max pro\n"
     ]
    }
   ],
   "source": [
    "#Multiple inheritance\n",
    "class Phone:\n",
    "    def __init__(self,price,brand,camera):\n",
    "        print(\"this is from Phone class\")\n",
    "        self.price=price\n",
    "        self.brand=brand\n",
    "        self.camera=camera\n",
    "\n",
    "    def buy(self):\n",
    "        print(\"please buy iphone 16 max pro\")\n",
    "\n",
    "class Product:\n",
    "    def buy(self):\n",
    "        print(\"please give the honest review\")\n",
    "\n",
    "\n",
    "class SmartPhone(Phone,Product): #MRO Method resolution order\n",
    "    pass\n",
    "\n",
    "\n",
    "s=SmartPhone(90000,\"Iphone 14\",28)\n",
    "s.buy()\n",
    "\n"
   ]
  },
  {
   "cell_type": "code",
   "execution_count": 5,
   "metadata": {},
   "outputs": [
    {
     "name": "stdout",
     "output_type": "stream",
     "text": [
      "this is from Phone class\n",
      "please give the honest review\n"
     ]
    }
   ],
   "source": [
    "#Multiple inheritance\n",
    "class Phone:\n",
    "    def __init__(self,price,brand,camera):\n",
    "        print(\"this is from Phone class\")\n",
    "        self.price=price\n",
    "        self.brand=brand\n",
    "        self.camera=camera\n",
    "\n",
    "    def buy(self):\n",
    "        print(\"please buy iphone 16 max pro\")\n",
    "\n",
    "class Product:\n",
    "    def buy(self):\n",
    "        print(\"please give the honest review\")\n",
    "\n",
    "\n",
    "class SmartPhone(Product,Phone): #MRO Method resolution order left to right  Products method comes first then phone\n",
    "    pass\n",
    "\n",
    "\n",
    "s=SmartPhone(90000,\"Iphone 14\",28)\n",
    "s.buy()\n",
    "\n"
   ]
  },
  {
   "cell_type": "code",
   "execution_count": 7,
   "metadata": {},
   "outputs": [
    {
     "name": "stdout",
     "output_type": "stream",
     "text": [
      "from Grand Parent\n",
      "from Parent abc\n",
      "from child bcd\n",
      "100 200 500\n",
      "from Grand Parent\n",
      "from Parent abc\n",
      "from child bcd\n",
      "800\n"
     ]
    }
   ],
   "source": [
    "#questions\n",
    "class GrandParent:\n",
    "    def abc(Self):\n",
    "        print(\"from Grand Parent abc\")\n",
    "        return 100\n",
    "    \n",
    "class Parent(GrandParent):\n",
    "    def abc(self):\n",
    "        print(\"from Parent abc\")\n",
    "\n",
    "        return 200\n",
    "    def bcd(self):\n",
    "        print(\"from Parent bcd\")\n",
    "\n",
    "        return 300\n",
    "    \n",
    "class Child(Parent):\n",
    "    def bcd(self):\n",
    "        print(\"from child bcd\")\n",
    "\n",
    "        return 500\n",
    "    \n",
    "c1=GrandParent()\n",
    "c2=Parent()\n",
    "c3=Child()\n",
    "print(c1.abc(),c3.abc(),c3.bcd())\n",
    "print(c1.abc()+c3.abc()+c3.bcd())\n",
    "    \n",
    "\n"
   ]
  },
  {
   "cell_type": "code",
   "execution_count": null,
   "metadata": {},
   "outputs": [],
   "source": []
  }
 ],
 "metadata": {
  "kernelspec": {
   "display_name": "Python 3",
   "language": "python",
   "name": "python3"
  },
  "language_info": {
   "codemirror_mode": {
    "name": "ipython",
    "version": 3
   },
   "file_extension": ".py",
   "mimetype": "text/x-python",
   "name": "python",
   "nbconvert_exporter": "python",
   "pygments_lexer": "ipython3",
   "version": "3.12.3"
  },
  "orig_nbformat": 4
 },
 "nbformat": 4,
 "nbformat_minor": 2
}
